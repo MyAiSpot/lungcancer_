{
 "cells": [
  {
   "cell_type": "code",
   "execution_count": 3,
   "id": "edaa23cf-07e5-4fa7-a23a-97a6cf7d69db",
   "metadata": {},
   "outputs": [
    {
     "data": {
      "text/plain": [
       "282"
      ]
     },
     "execution_count": 3,
     "metadata": {},
     "output_type": "execute_result"
    }
   ],
   "source": [
    "a = \"\"\"This repository supports the paper \"Data Splitting Bias in Public CT Datasets: Lessons from IQ-OTH/NCCD\" (under review). It includes modular Jupyter Notebooks, custom data splitting strategies, image preprocessing pipelines, and performance tracking to explore how CT scan ordering \"\"\"\n",
    "len(a)"
   ]
  }
 ],
 "metadata": {
  "kernelspec": {
   "display_name": "Python 3 (ipykernel)",
   "language": "python",
   "name": "python3"
  },
  "language_info": {
   "codemirror_mode": {
    "name": "ipython",
    "version": 3
   },
   "file_extension": ".py",
   "mimetype": "text/x-python",
   "name": "python",
   "nbconvert_exporter": "python",
   "pygments_lexer": "ipython3",
   "version": "3.10.12"
  }
 },
 "nbformat": 4,
 "nbformat_minor": 5
}
